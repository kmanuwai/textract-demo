{
 "cells": [
  {
   "cell_type": "markdown",
   "id": "897fc600-ff57-4fa9-a9da-b8f9aa3d7af9",
   "metadata": {},
   "source": [
    "# Modern Slavery Analysis Pipeline PoC"
   ]
  },
  {
   "cell_type": "markdown",
   "id": "d253ff9a-3a2e-46fa-a49a-cfb1d693c380",
   "metadata": {},
   "source": [
    "### High Level Overview of Process\n",
    "\n",
    "1. Textract - Convert PDFs into text\n"
   ]
  },
  {
   "cell_type": "code",
   "execution_count": 27,
   "id": "bb7df2f8-96d1-4054-86e3-cb64bb0ef52c",
   "metadata": {
    "tags": []
   },
   "outputs": [],
   "source": [
    "import boto3\n",
    "import time\n",
    "import pandas as pd\n",
    "import json\n",
    "import os\n",
    "from sagemaker import get_execution_role"
   ]
  },
  {
   "cell_type": "code",
   "execution_count": 28,
   "id": "ee0fb047-1797-4b20-aba9-958557ddfd66",
   "metadata": {
    "tags": []
   },
   "outputs": [],
   "source": [
    "mySession = boto3.session.Session()\n",
    "region = mySession.region_name\n",
    "\n",
    "s3_client = boto3.client('s3')\n",
    "client = boto3.client('textract', region_name=region)\n",
    "comprehend = boto3.client('comprehend', region_name=region)\n",
    "\n",
    "role = get_execution_role()"
   ]
  },
  {
   "cell_type": "markdown",
   "id": "e2414a5f-09b4-47a0-bec2-90ec77ee1d7b",
   "metadata": {},
   "source": [
    "---------------\n",
    "## 1. Convert PDFs into text using Textract"
   ]
  },
  {
   "cell_type": "code",
   "execution_count": 49,
   "id": "b6ba6e1f-c5db-4987-9bcd-adbc52f20ac9",
   "metadata": {
    "tags": []
   },
   "outputs": [],
   "source": [
    "# Sourced from: https://github.com/aws-samples/amazon-textract-code-samples/blob/master/python/Textract.ipynb\n",
    "def start_job(client, s3_bucket_name, object_name):\n",
    "    response = None\n",
    "    response = client.start_document_text_detection(\n",
    "        DocumentLocation={\n",
    "            'S3Object': {\n",
    "                'Bucket': s3_bucket_name,\n",
    "                'Name': object_name\n",
    "            }})\n",
    "\n",
    "    return response[\"JobId\"]\n",
    "\n",
    "\n",
    "def is_job_complete(client, job_id):\n",
    "    #time.sleep(1)\n",
    "    response = client.get_document_text_detection(JobId=job_id)\n",
    "    status = response[\"JobStatus\"]\n",
    "    \n",
    "    #print(\"Job status: {}\".format(status))\n",
    "\n",
    "    #while(status != \"SUCCEEDED\"):#\"IN_PROGRESS\"):\n",
    "    #time.sleep(1)\n",
    "    # response = client.get_document_text_detection(JobId=job_id)\n",
    "    # status = response[\"JobStatus\"]\n",
    "    #print(\"Job status: {}\".format(status))\n",
    "\n",
    "    return status\n",
    "\n",
    "\n",
    "def get_job_results(client, job_id):\n",
    "    pages = []\n",
    "    time.sleep(1)\n",
    "    response = client.get_document_text_detection(JobId=job_id)\n",
    "    pages.append(response)\n",
    "    #print(\"Resultset page received: {}\".format(len(pages)))\n",
    "    next_token = None\n",
    "    if 'NextToken' in response:\n",
    "        next_token = response['NextToken']\n",
    "\n",
    "    while next_token:\n",
    "        time.sleep(1)\n",
    "        response = client.\\\n",
    "            get_document_text_detection(JobId=job_id, NextToken=next_token)\n",
    "        pages.append(response)\n",
    "        #print(\"Resultset page received: {}\".format(len(pages)))\n",
    "        next_token = None\n",
    "        if 'NextToken' in response:\n",
    "            next_token = response['NextToken']\n",
    "\n",
    "    return pages\n"
   ]
  },
  {
   "cell_type": "code",
   "execution_count": 30,
   "id": "ab9dc0a9-a79f-4efa-bf92-9c3c7821ef8a",
   "metadata": {
    "tags": []
   },
   "outputs": [],
   "source": [
    "def iterate_bucket_items(bucket, prefix=\"\"):\n",
    "    \"\"\"\n",
    "    Generator that iterates over all objects in a given s3 bucket\n",
    "\n",
    "    See http://boto3.readthedocs.io/en/latest/reference/services/s3.html#S3.Client.list_objects_v2 \n",
    "    for return data format\n",
    "    :param bucket: name of s3 bucket\n",
    "    :return: dict of metadata for an object\n",
    "    \"\"\"\n",
    "\n",
    "\n",
    "    client = boto3.client('s3')\n",
    "    paginator = client.get_paginator('list_objects_v2')\n",
    "    page_iterator = paginator.paginate(Bucket=bucket, Prefix=prefix)\n",
    "\n",
    "    for page in page_iterator:\n",
    "        if page['KeyCount'] > 0:\n",
    "            for item in page['Contents']:\n",
    "                yield item"
   ]
  },
  {
   "cell_type": "code",
   "execution_count": 32,
   "id": "9bcfa103-e02a-4471-af44-f59a41dec54c",
   "metadata": {
    "tags": []
   },
   "outputs": [],
   "source": [
    "# Documents\n",
    "s3_bucket_name=\"modern-slavery-act-poc-124234234\"\n",
    "prefix='2020' # TODO: CHANGE BACK TO ALL FILES\n",
    "\n",
    "# Data frame to save to \n",
    "extracted_text = pd.DataFrame(columns=[\"label\",\"text\"])"
   ]
  },
  {
   "cell_type": "code",
   "execution_count": 33,
   "id": "8657f8a4-e06e-456c-960f-0f2889dd7bc2",
   "metadata": {
    "tags": []
   },
   "outputs": [
    {
     "name": "stdout",
     "output_type": "stream",
     "text": [
      "Starting Textract extraction jobs\n"
     ]
    }
   ],
   "source": [
    "# TODO: print total count of documents to process\n",
    "job_ids = []\n",
    "finished_jobs = []\n",
    "s3_objects = iterate_bucket_items(bucket=s3_bucket_name, prefix=prefix)\n",
    "\n",
    "print(\"Starting Textract extraction jobs\")\n",
    "# Start Textract jobs\n",
    "for s3_object in s3_objects:\n",
    "    document_name = s3_object[\"Key\"]\n",
    "    if document_name.endswith(\".pdf\"):  \n",
    "        job_id = start_job(client, s3_bucket_name, document_name)\n",
    "        job_ids.append(job_id)\n",
    "        #print(\"Started job with id: {}\".format(job_id))"
   ]
  },
  {
   "cell_type": "code",
   "execution_count": 51,
   "id": "64e68104-2c2e-4c01-bba4-6841cf9f53b9",
   "metadata": {
    "scrolled": true,
    "tags": []
   },
   "outputs": [
    {
     "name": "stdout",
     "output_type": "stream",
     "text": [
      "Waiting on #:  58\n",
      "SUCCEEDED: ddd2a9cc638d14c890aca040b7f71d7f361d37c02bcf863ba2a512ba41c65c83\n",
      "SUCCEEDED: 5511f85f3a85dc9450124fecb1899a3109b2178b27885decfa6b858d847e52ba\n",
      "SUCCEEDED: 76ccd1026c128efe6372995c405cc603fd04fd48cf6828459399a03d8e2bf9dc\n",
      "SUCCEEDED: 1d977180c6a03222f669d7879ce7475203b66a731c84e181d79bc7084d349041\n",
      "SUCCEEDED: 069331d89439e0556cbe8d11d332a38d6f86c581ddc15ddb0bfe69c47cbfc7ba\n",
      "SUCCEEDED: a0a6ce7925f65bbd5cfb914026cce584132bbc16f446f45bea6ae4728d307d4e\n",
      "SUCCEEDED: ef0947c1586049d73849c57fc9f65b196ec3d0a5e0a75d0c932c54c047e14f27\n",
      "SUCCEEDED: 340b42d7c493555368f511874bf1ef270401e9f9db218e589e2538838b77d18a\n",
      "SUCCEEDED: 2bd0dd815d002dd1d757b617035fe85d0f10ce46a2e1e23d491b69e0b4c83906\n",
      "SUCCEEDED: 5eb430413e2d32214cbeaf57fec79cb4d272f26ed0b5c2a2169a4826e2624aa1\n",
      "SUCCEEDED: ceb9bd37f29e593a2384590a9c628ebf4c19ff7fe517e6c5fb07ffaa4a5d1c00\n",
      "SUCCEEDED: 282502ea26f1cba8116555e4c886beaa8b72b05cdb2eff959da1b8fcb842ffa3\n",
      "SUCCEEDED: 54733e8a673b9b6b877a83607b140ceb458bd328d72d9b4ba459e3827fb4fc89\n",
      "SUCCEEDED: 69869eecb28d85ab057c44df2bdb0f7c1086f8da91e32341843517aa98a8363d\n",
      "SUCCEEDED: 2323609e56b27de04a7d4931a67b7d9128747df9e2f4fec187e042166c70baa4\n",
      "SUCCEEDED: 3d4dac8b432ba4855780c9a3680b92032541318fadf7b6f452a09a8cc1849839\n",
      "SUCCEEDED: 0cd26d4892cea10029ccb51b65092795fb3a02f410877259cfa2327a1a4b934c\n",
      "SUCCEEDED: 1ffe7f9ba7dcb835d8a4c78d6eeabc46a170bbb975d9bbd5890d2698a9f3b6db\n",
      "SUCCEEDED: d99175d7aa15e8ce1e3f46b241bb0f0a4bef842ae76a01ab320ee09d726d4d99\n",
      "SUCCEEDED: 52225565f900d5b0573d57d224f777b48ae97aa2c5dd00e2926da3a514abbece\n",
      "SUCCEEDED: 01858167abab16b5435b729d1e2ea3976c7117ee17c55542a9f6c94df9d56914\n",
      "SUCCEEDED: 27ade429799bd5ea8b4d9343d9aa3e70e782a6141c9fea2f6d435ad1677b7dd2\n",
      "SUCCEEDED: 059f94b97217c7cfaa5a7b3f49e53bea9199290491421bb0ed48bc235b40beff\n",
      "SUCCEEDED: cac9e40800a983cc3de5b0c12bc4a62c0699dbba870dc1db81b1aa68943c12e0\n",
      "SUCCEEDED: e0e443058a6b2bbc5fbac6288db2dc78ee2fd9146b449d62a1d8429fe52f9cd9\n",
      "SUCCEEDED: 9a61d35ce10f84eca2cfaf82d2510ed500e636048b2d7b4cfc904618271d654e\n",
      "SUCCEEDED: 85a9ca0227c4e83cda341d74801b34de15dded9f93e5bbf660d9072189e1cb0d\n",
      "SUCCEEDED: 6ccb48abb9b24e06291f6eecff5eb7a27aaabeec853e2ef38edc1f36883de9f3\n",
      "SUCCEEDED: 493802fa1204019a72bc502997b3abfd99499a4bd2d5636b956f6ede26021b4b\n",
      "Waiting on #:  29\n",
      "SUCCEEDED: 8c3af5338317ae2990fc2704ef9e41429462ac66682911f2aae42a674ea53a70\n",
      "SUCCEEDED: a88c3eae0bdf6cbd133a9bde36be22f280053c53a2c19c8eab470aab2d685e16\n",
      "SUCCEEDED: 2e4e88cd6fb6e1c09dbab0e8730cdd9735f961d9545b28a27d5f7810d6cf60d3\n",
      "SUCCEEDED: 79b8183e0254845f4b0c4a159a4083d8030f253ac805099647fe97b1838dfa0d\n",
      "SUCCEEDED: 086f2f4e841e8f9f8f39f37ef5d613f02f39beab43e9376c2e2749edc598d6d1\n",
      "SUCCEEDED: 746e27a3f50631fe39dc623bc6eddb7ecc595a0a8ad41440a2d0c32a4c71aa00\n",
      "SUCCEEDED: 1ed648eb5a1598dff2ad0f9b678320ab8bf01e9464920bae2c0b839e935793be\n",
      "SUCCEEDED: 961eca9e830a5d501163fa0cf34a1a244637f5d214f0fc3195466b0dae7d79df\n",
      "SUCCEEDED: 8c0018de08ca073c734135ef90137146d313867dd84a8f673e064d2ba3569e2d\n",
      "SUCCEEDED: a82d074b460852e1d5863e6c5dfa9f4656cd62fe3fb081c5d79c24913054d669\n",
      "SUCCEEDED: bb777b0e1c3992e9bfe4d8613c9c787cd57b8e1620e829a928ed58bcb781fe90\n",
      "SUCCEEDED: 846cad2b9b7866c80ba7b4eac4d4032f599616e13bf88d7cf5598154512d069e\n",
      "SUCCEEDED: a74d9829de49c9a1738c032f6a8306c6f74861cc71970f07095c9e99e71df10a\n",
      "SUCCEEDED: ee688a18d85ab7a66361af41423baac99e490785134c7bdd60b213690b50b08f\n",
      "SUCCEEDED: ca3494734ebc1e47c97cb459bbb4d2244aecd61f62ce08806e4a8ed371001396\n",
      "Waiting on #:  14\n",
      "SUCCEEDED: df5fd63e0983cc89653cc12adf07697daba62ff62d3932878252257de5c0d1f8\n",
      "SUCCEEDED: 73cd7a7818500ea830b5bdad918788d66763dc5fa2ca38edfa43502528477ceb\n",
      "SUCCEEDED: f9a6ebc69b1bbcf6af452390f6808eb7d5cf93a9884ff238eb76c75d08a97f8d\n",
      "SUCCEEDED: cf6b36da87aae2a26c6f6a0530444e85f74eb2f08ee46aa3e2f8a2e0a05f6d43\n",
      "SUCCEEDED: be29ffce184eed00b1778dd2205b8bba85700e06cdb7af7e44db47d34ddc0111\n",
      "SUCCEEDED: 9ec9ff1643524b879629bf24ba2faaa11053f9df25aa2b5b1def82ef4dedd56e\n",
      "SUCCEEDED: 68d87470272ac37e4eb69a7339bac726289b523339007bdd8a643c48b571d36e\n",
      "Waiting on #:  7\n",
      "SUCCEEDED: 43ad94e4e30ec2c75545f688c16b812842177cf61a246160c25e94ca5f4cae25\n",
      "SUCCEEDED: 08b97a68996915718c43752f792cb3afdf3cebe6ba89605478a1370cd4fd775b\n",
      "SUCCEEDED: bdc244e8cf33da52a04facc362b9ccd2d952b88dfc476ea11d28b8e135c70d7e\n",
      "SUCCEEDED: d3eee051719a2f75bad8cebac1ff5b468e8112f19e814bc05e67a875554143fd\n",
      "Waiting on #:  3\n",
      "SUCCEEDED: 279158bc294c1bd8093c34efc8bbfc46a4ac9a26c7f0a9540070f87673b8431d\n",
      "SUCCEEDED: d26009917de9c9095d5ce57b68d07d7dc15f2606525ce408f1604e52cb0fb04f\n",
      "Waiting on #:  1\n",
      "SUCCEEDED: 8ff1ad03bae9c296c40040a8be96449d6ebea773f0810c847fa20ad21aa383a7\n"
     ]
    }
   ],
   "source": [
    "# Check if jobs are complete\n",
    "while job_ids:\n",
    "    print(\"Waiting on #: \", len(job_ids))\n",
    "    for job_id in job_ids:\n",
    "        if is_job_complete(client, job_id) == \"SUCCEEDED\":\n",
    "            print(\"SUCCEEDED: \" + str(job_id))\n",
    "            # add response to list\n",
    "            response = get_job_results(client, job_id)\n",
    "            finished_jobs.append(response)\n",
    "            job_ids.remove(job_id)\n",
    "            \n",
    "        \n",
    "    \n",
    "    time.sleep(30)"
   ]
  },
  {
   "cell_type": "code",
   "execution_count": 52,
   "id": "392e7841-24a0-4691-b347-660171bf32a5",
   "metadata": {
    "tags": []
   },
   "outputs": [],
   "source": [
    "for response in finished_jobs:\n",
    "    \n",
    "    temp_list = []\n",
    "    # Get only text LINES and add to a list\n",
    "    for result_page in response:\n",
    "        for item in result_page[\"Blocks\"]:\n",
    "            if item[\"BlockType\"] == \"LINE\":\n",
    "                temp_list.append(item[\"Text\"])\n",
    "    \n",
    "    # write to text file\n",
    "    with open('raw_text/'+str(finished_jobs.index(response))+'.txt', 'w') as f:\n",
    "        f.write('\\n'.join(temp_list))\n",
    "\n",
    "    # add text to dataframe\n",
    "    extracted_text = extracted_text.append({\"label\": 1, \"text\" : ' '.join(temp_list)}, ignore_index=True)"
   ]
  },
  {
   "cell_type": "code",
   "execution_count": 53,
   "id": "3c084dec-1c77-4140-96b6-d3a360a6ce5a",
   "metadata": {
    "tags": []
   },
   "outputs": [],
   "source": [
    "extracted_text.to_csv('2020_ModernSlaveryStatements_rawtext_1.csv', index=False)"
   ]
  },
  {
   "cell_type": "code",
   "execution_count": 54,
   "id": "e89627cd-7a8a-4c5c-84cd-9e249c083113",
   "metadata": {
    "tags": []
   },
   "outputs": [],
   "source": [
    "# Upload Directory\n",
    "raw_text_folder = \"raw_text/\"\n",
    "s3_save_location = prefix + raw_text_folder\n",
    "\n",
    "for root,dirs,files in os.walk(raw_text_folder):\n",
    "    for file in files:\n",
    "        if file.endswith(\".txt\") and not \".\" in root:  \n",
    "            #print(os.path.join(root,file))\n",
    "            s3_client.upload_file(os.path.join(root,file), s3_bucket_name, s3_save_location+file)\n"
   ]
  },
  {
   "cell_type": "markdown",
   "id": "942c8427-cb27-4293-9570-fb36c9b4125a",
   "metadata": {},
   "source": [
    "# 2. Text Analysis with Comprehend \n",
    "## (Entities, Key Phrases, Sentiment, Event Detection)\n",
    "-----"
   ]
  },
  {
   "cell_type": "code",
   "execution_count": null,
   "id": "620db6e2-8ba9-46e3-b7d2-4a021f5abf23",
   "metadata": {
    "tags": []
   },
   "outputs": [],
   "source": [
    "# Parameters\n",
    "filename = \"2020/raw_text/1.txt\"\n",
    "\n",
    "\n",
    "input_data_s3_path = f's3://{s3_bucket_name}/' + filename\n",
    "input_data_format = 'ONE_DOC_PER_LINE'\n",
    "output_data_s3_path = f's3://{s3_bucket_name}/comprehend-test/'\n",
    "job_uuid = uuid.uuid1()\n",
    "job_name = f\"entities-job-{job_uuid}\""
   ]
  },
  {
   "cell_type": "code",
   "execution_count": 34,
   "id": "41254b36-b683-4ca9-a83a-63924b6b92f1",
   "metadata": {},
   "outputs": [],
   "source": [
    "# Begin the inference job\n",
    "response = comprehend.start_entities_detection_job(\n",
    "    InputDataConfig={'S3Uri': input_data_s3_path,\n",
    "                     'InputFormat': input_data_format},\n",
    "    OutputDataConfig={'S3Uri': output_data_s3_path},\n",
    "    DataAccessRoleArn=role,\n",
    "    JobName=job_name,\n",
    "    LanguageCode='en',\n",
    "   # TargetEventTypes=event_types\n",
    ")\n",
    "\n",
    "# Get the job ID\n",
    "events_job_id = response['JobId']"
   ]
  },
  {
   "cell_type": "code",
   "execution_count": 36,
   "id": "94116955-184d-417f-b3c9-09a63a1eeca0",
   "metadata": {
    "tags": []
   },
   "outputs": [],
   "source": [
    "# Get current job status\n",
    "job = comprehend.describe_entities_detection_job(JobId=events_job_id)\n",
    "\n",
    "# Loop until job is completed\n",
    "waited = 0\n",
    "timeout_minutes = 30\n",
    "while (job['EntitiesDetectionJobProperties']['JobStatus'] not in [\"COMPLETED\", \"FAILED\"]:# or (job['EntitiesDetectionJobProperties']['JobStatus'] != 'FAILED'):\n",
    "    print(job['EntitiesDetectionJobProperties']['JobStatus'])\n",
    "    time.sleep(10)\n",
    "    waited += 10\n",
    "    assert waited//60 < timeout_minutes, \"Job timed out after %d seconds.\" % waited\n",
    "    job = comprehend.describe_entities_detection_job(JobId=events_job_id)"
   ]
  },
  {
   "cell_type": "code",
   "execution_count": 48,
   "id": "5b6d6bf6-d1f6-4d90-882a-4820fb3d5e49",
   "metadata": {
    "tags": []
   },
   "outputs": [
    {
     "name": "stdout",
     "output_type": "stream",
     "text": [
      "s3://modern-slavery-act-poc-124234234/comprehend-test/704631844570-NER-563ae2ef711b482ba65756f8f464700d/output/output.tar.gz\n"
     ]
    }
   ],
   "source": [
    "# The output filename is the input filename + \".out\"\n",
    "def split_s3_path(s3_path):\n",
    "    path_parts=s3_path.replace(\"s3://\",\"\").split(\"/\")\n",
    "    bucket=path_parts.pop(0)\n",
    "    key=\"/\".join(path_parts)\n",
    "    return bucket, key\n",
    "\n",
    "bucket, key = split_s3_path(job['EntitiesDetectionJobProperties']['OutputDataConfig']['S3Uri'])\n",
    "print(output_data_s3_file)\n",
    "# download file from s3\n",
    "s3_client.download_file(s3_bucket_name, key, 'output.tar.gz')"
   ]
  },
  {
   "cell_type": "code",
   "execution_count": 49,
   "id": "f54a6b57-828a-4a38-9add-4ba84e806ae2",
   "metadata": {
    "tags": []
   },
   "outputs": [],
   "source": [
    "# importing the \"tarfile\" module\n",
    "import tarfile\n",
    "# open file\n",
    "file = tarfile.open('output.tar.gz')\n",
    "# extracting file\n",
    "file.extractall('./extract')\n",
    "file.close()"
   ]
  },
  {
   "cell_type": "markdown",
   "id": "a03bf5b5-9c86-4d5b-94fb-7853fc942910",
   "metadata": {},
   "source": [
    "# 3. Model Training\n",
    "-----"
   ]
  },
  {
   "cell_type": "markdown",
   "id": "8fded341-3c47-4b83-8df0-a2e4c9c54335",
   "metadata": {},
   "source": [
    "What output do you want from the model?\n",
    "- Classification? I.e. Yes or No if document meets criterion \n",
    "    - Would need large sample size of submitted statements that did not meet requirements\n",
    "- Confidence levels for each criterion\n",
    "- Identification of which paragraphs are relevant to each criterion? Potentially speeding up processing\n",
    "\n",
    "---\n"
   ]
  },
  {
   "cell_type": "code",
   "execution_count": null,
   "id": "20c01703-0622-41c9-bcd0-09e8d9b740b0",
   "metadata": {},
   "outputs": [],
   "source": [
    "# For example we will train a text classification model\n"
   ]
  },
  {
   "cell_type": "markdown",
   "id": "28fea6d5-90a1-45fb-9008-046789eaeb31",
   "metadata": {},
   "source": [
    "# 4. Model Hosting\n",
    "-----"
   ]
  },
  {
   "cell_type": "code",
   "execution_count": null,
   "id": "f8d3fe37-a496-43dd-9a57-03111e541eac",
   "metadata": {},
   "outputs": [],
   "source": []
  },
  {
   "cell_type": "code",
   "execution_count": null,
   "id": "069d88b2-3479-483a-9993-2afdf23d1276",
   "metadata": {},
   "outputs": [],
   "source": []
  }
 ],
 "metadata": {
  "availableInstances": [
   {
    "_defaultOrder": 0,
    "_isFastLaunch": true,
    "category": "General purpose",
    "gpuNum": 0,
    "hideHardwareSpecs": false,
    "memoryGiB": 4,
    "name": "ml.t3.medium",
    "vcpuNum": 2
   },
   {
    "_defaultOrder": 1,
    "_isFastLaunch": false,
    "category": "General purpose",
    "gpuNum": 0,
    "hideHardwareSpecs": false,
    "memoryGiB": 8,
    "name": "ml.t3.large",
    "vcpuNum": 2
   },
   {
    "_defaultOrder": 2,
    "_isFastLaunch": false,
    "category": "General purpose",
    "gpuNum": 0,
    "hideHardwareSpecs": false,
    "memoryGiB": 16,
    "name": "ml.t3.xlarge",
    "vcpuNum": 4
   },
   {
    "_defaultOrder": 3,
    "_isFastLaunch": false,
    "category": "General purpose",
    "gpuNum": 0,
    "hideHardwareSpecs": false,
    "memoryGiB": 32,
    "name": "ml.t3.2xlarge",
    "vcpuNum": 8
   },
   {
    "_defaultOrder": 4,
    "_isFastLaunch": true,
    "category": "General purpose",
    "gpuNum": 0,
    "hideHardwareSpecs": false,
    "memoryGiB": 8,
    "name": "ml.m5.large",
    "vcpuNum": 2
   },
   {
    "_defaultOrder": 5,
    "_isFastLaunch": false,
    "category": "General purpose",
    "gpuNum": 0,
    "hideHardwareSpecs": false,
    "memoryGiB": 16,
    "name": "ml.m5.xlarge",
    "vcpuNum": 4
   },
   {
    "_defaultOrder": 6,
    "_isFastLaunch": false,
    "category": "General purpose",
    "gpuNum": 0,
    "hideHardwareSpecs": false,
    "memoryGiB": 32,
    "name": "ml.m5.2xlarge",
    "vcpuNum": 8
   },
   {
    "_defaultOrder": 7,
    "_isFastLaunch": false,
    "category": "General purpose",
    "gpuNum": 0,
    "hideHardwareSpecs": false,
    "memoryGiB": 64,
    "name": "ml.m5.4xlarge",
    "vcpuNum": 16
   },
   {
    "_defaultOrder": 8,
    "_isFastLaunch": false,
    "category": "General purpose",
    "gpuNum": 0,
    "hideHardwareSpecs": false,
    "memoryGiB": 128,
    "name": "ml.m5.8xlarge",
    "vcpuNum": 32
   },
   {
    "_defaultOrder": 9,
    "_isFastLaunch": false,
    "category": "General purpose",
    "gpuNum": 0,
    "hideHardwareSpecs": false,
    "memoryGiB": 192,
    "name": "ml.m5.12xlarge",
    "vcpuNum": 48
   },
   {
    "_defaultOrder": 10,
    "_isFastLaunch": false,
    "category": "General purpose",
    "gpuNum": 0,
    "hideHardwareSpecs": false,
    "memoryGiB": 256,
    "name": "ml.m5.16xlarge",
    "vcpuNum": 64
   },
   {
    "_defaultOrder": 11,
    "_isFastLaunch": false,
    "category": "General purpose",
    "gpuNum": 0,
    "hideHardwareSpecs": false,
    "memoryGiB": 384,
    "name": "ml.m5.24xlarge",
    "vcpuNum": 96
   },
   {
    "_defaultOrder": 12,
    "_isFastLaunch": false,
    "category": "General purpose",
    "gpuNum": 0,
    "hideHardwareSpecs": false,
    "memoryGiB": 8,
    "name": "ml.m5d.large",
    "vcpuNum": 2
   },
   {
    "_defaultOrder": 13,
    "_isFastLaunch": false,
    "category": "General purpose",
    "gpuNum": 0,
    "hideHardwareSpecs": false,
    "memoryGiB": 16,
    "name": "ml.m5d.xlarge",
    "vcpuNum": 4
   },
   {
    "_defaultOrder": 14,
    "_isFastLaunch": false,
    "category": "General purpose",
    "gpuNum": 0,
    "hideHardwareSpecs": false,
    "memoryGiB": 32,
    "name": "ml.m5d.2xlarge",
    "vcpuNum": 8
   },
   {
    "_defaultOrder": 15,
    "_isFastLaunch": false,
    "category": "General purpose",
    "gpuNum": 0,
    "hideHardwareSpecs": false,
    "memoryGiB": 64,
    "name": "ml.m5d.4xlarge",
    "vcpuNum": 16
   },
   {
    "_defaultOrder": 16,
    "_isFastLaunch": false,
    "category": "General purpose",
    "gpuNum": 0,
    "hideHardwareSpecs": false,
    "memoryGiB": 128,
    "name": "ml.m5d.8xlarge",
    "vcpuNum": 32
   },
   {
    "_defaultOrder": 17,
    "_isFastLaunch": false,
    "category": "General purpose",
    "gpuNum": 0,
    "hideHardwareSpecs": false,
    "memoryGiB": 192,
    "name": "ml.m5d.12xlarge",
    "vcpuNum": 48
   },
   {
    "_defaultOrder": 18,
    "_isFastLaunch": false,
    "category": "General purpose",
    "gpuNum": 0,
    "hideHardwareSpecs": false,
    "memoryGiB": 256,
    "name": "ml.m5d.16xlarge",
    "vcpuNum": 64
   },
   {
    "_defaultOrder": 19,
    "_isFastLaunch": false,
    "category": "General purpose",
    "gpuNum": 0,
    "hideHardwareSpecs": false,
    "memoryGiB": 384,
    "name": "ml.m5d.24xlarge",
    "vcpuNum": 96
   },
   {
    "_defaultOrder": 20,
    "_isFastLaunch": false,
    "category": "General purpose",
    "gpuNum": 0,
    "hideHardwareSpecs": true,
    "memoryGiB": 0,
    "name": "ml.geospatial.interactive",
    "supportedImageNames": [
     "sagemaker-geospatial-v1-0"
    ],
    "vcpuNum": 0
   },
   {
    "_defaultOrder": 21,
    "_isFastLaunch": true,
    "category": "Compute optimized",
    "gpuNum": 0,
    "hideHardwareSpecs": false,
    "memoryGiB": 4,
    "name": "ml.c5.large",
    "vcpuNum": 2
   },
   {
    "_defaultOrder": 22,
    "_isFastLaunch": false,
    "category": "Compute optimized",
    "gpuNum": 0,
    "hideHardwareSpecs": false,
    "memoryGiB": 8,
    "name": "ml.c5.xlarge",
    "vcpuNum": 4
   },
   {
    "_defaultOrder": 23,
    "_isFastLaunch": false,
    "category": "Compute optimized",
    "gpuNum": 0,
    "hideHardwareSpecs": false,
    "memoryGiB": 16,
    "name": "ml.c5.2xlarge",
    "vcpuNum": 8
   },
   {
    "_defaultOrder": 24,
    "_isFastLaunch": false,
    "category": "Compute optimized",
    "gpuNum": 0,
    "hideHardwareSpecs": false,
    "memoryGiB": 32,
    "name": "ml.c5.4xlarge",
    "vcpuNum": 16
   },
   {
    "_defaultOrder": 25,
    "_isFastLaunch": false,
    "category": "Compute optimized",
    "gpuNum": 0,
    "hideHardwareSpecs": false,
    "memoryGiB": 72,
    "name": "ml.c5.9xlarge",
    "vcpuNum": 36
   },
   {
    "_defaultOrder": 26,
    "_isFastLaunch": false,
    "category": "Compute optimized",
    "gpuNum": 0,
    "hideHardwareSpecs": false,
    "memoryGiB": 96,
    "name": "ml.c5.12xlarge",
    "vcpuNum": 48
   },
   {
    "_defaultOrder": 27,
    "_isFastLaunch": false,
    "category": "Compute optimized",
    "gpuNum": 0,
    "hideHardwareSpecs": false,
    "memoryGiB": 144,
    "name": "ml.c5.18xlarge",
    "vcpuNum": 72
   },
   {
    "_defaultOrder": 28,
    "_isFastLaunch": false,
    "category": "Compute optimized",
    "gpuNum": 0,
    "hideHardwareSpecs": false,
    "memoryGiB": 192,
    "name": "ml.c5.24xlarge",
    "vcpuNum": 96
   },
   {
    "_defaultOrder": 29,
    "_isFastLaunch": true,
    "category": "Accelerated computing",
    "gpuNum": 1,
    "hideHardwareSpecs": false,
    "memoryGiB": 16,
    "name": "ml.g4dn.xlarge",
    "vcpuNum": 4
   },
   {
    "_defaultOrder": 30,
    "_isFastLaunch": false,
    "category": "Accelerated computing",
    "gpuNum": 1,
    "hideHardwareSpecs": false,
    "memoryGiB": 32,
    "name": "ml.g4dn.2xlarge",
    "vcpuNum": 8
   },
   {
    "_defaultOrder": 31,
    "_isFastLaunch": false,
    "category": "Accelerated computing",
    "gpuNum": 1,
    "hideHardwareSpecs": false,
    "memoryGiB": 64,
    "name": "ml.g4dn.4xlarge",
    "vcpuNum": 16
   },
   {
    "_defaultOrder": 32,
    "_isFastLaunch": false,
    "category": "Accelerated computing",
    "gpuNum": 1,
    "hideHardwareSpecs": false,
    "memoryGiB": 128,
    "name": "ml.g4dn.8xlarge",
    "vcpuNum": 32
   },
   {
    "_defaultOrder": 33,
    "_isFastLaunch": false,
    "category": "Accelerated computing",
    "gpuNum": 4,
    "hideHardwareSpecs": false,
    "memoryGiB": 192,
    "name": "ml.g4dn.12xlarge",
    "vcpuNum": 48
   },
   {
    "_defaultOrder": 34,
    "_isFastLaunch": false,
    "category": "Accelerated computing",
    "gpuNum": 1,
    "hideHardwareSpecs": false,
    "memoryGiB": 256,
    "name": "ml.g4dn.16xlarge",
    "vcpuNum": 64
   },
   {
    "_defaultOrder": 35,
    "_isFastLaunch": false,
    "category": "Accelerated computing",
    "gpuNum": 1,
    "hideHardwareSpecs": false,
    "memoryGiB": 61,
    "name": "ml.p3.2xlarge",
    "vcpuNum": 8
   },
   {
    "_defaultOrder": 36,
    "_isFastLaunch": false,
    "category": "Accelerated computing",
    "gpuNum": 4,
    "hideHardwareSpecs": false,
    "memoryGiB": 244,
    "name": "ml.p3.8xlarge",
    "vcpuNum": 32
   },
   {
    "_defaultOrder": 37,
    "_isFastLaunch": false,
    "category": "Accelerated computing",
    "gpuNum": 8,
    "hideHardwareSpecs": false,
    "memoryGiB": 488,
    "name": "ml.p3.16xlarge",
    "vcpuNum": 64
   },
   {
    "_defaultOrder": 38,
    "_isFastLaunch": false,
    "category": "Accelerated computing",
    "gpuNum": 8,
    "hideHardwareSpecs": false,
    "memoryGiB": 768,
    "name": "ml.p3dn.24xlarge",
    "vcpuNum": 96
   },
   {
    "_defaultOrder": 39,
    "_isFastLaunch": false,
    "category": "Memory Optimized",
    "gpuNum": 0,
    "hideHardwareSpecs": false,
    "memoryGiB": 16,
    "name": "ml.r5.large",
    "vcpuNum": 2
   },
   {
    "_defaultOrder": 40,
    "_isFastLaunch": false,
    "category": "Memory Optimized",
    "gpuNum": 0,
    "hideHardwareSpecs": false,
    "memoryGiB": 32,
    "name": "ml.r5.xlarge",
    "vcpuNum": 4
   },
   {
    "_defaultOrder": 41,
    "_isFastLaunch": false,
    "category": "Memory Optimized",
    "gpuNum": 0,
    "hideHardwareSpecs": false,
    "memoryGiB": 64,
    "name": "ml.r5.2xlarge",
    "vcpuNum": 8
   },
   {
    "_defaultOrder": 42,
    "_isFastLaunch": false,
    "category": "Memory Optimized",
    "gpuNum": 0,
    "hideHardwareSpecs": false,
    "memoryGiB": 128,
    "name": "ml.r5.4xlarge",
    "vcpuNum": 16
   },
   {
    "_defaultOrder": 43,
    "_isFastLaunch": false,
    "category": "Memory Optimized",
    "gpuNum": 0,
    "hideHardwareSpecs": false,
    "memoryGiB": 256,
    "name": "ml.r5.8xlarge",
    "vcpuNum": 32
   },
   {
    "_defaultOrder": 44,
    "_isFastLaunch": false,
    "category": "Memory Optimized",
    "gpuNum": 0,
    "hideHardwareSpecs": false,
    "memoryGiB": 384,
    "name": "ml.r5.12xlarge",
    "vcpuNum": 48
   },
   {
    "_defaultOrder": 45,
    "_isFastLaunch": false,
    "category": "Memory Optimized",
    "gpuNum": 0,
    "hideHardwareSpecs": false,
    "memoryGiB": 512,
    "name": "ml.r5.16xlarge",
    "vcpuNum": 64
   },
   {
    "_defaultOrder": 46,
    "_isFastLaunch": false,
    "category": "Memory Optimized",
    "gpuNum": 0,
    "hideHardwareSpecs": false,
    "memoryGiB": 768,
    "name": "ml.r5.24xlarge",
    "vcpuNum": 96
   },
   {
    "_defaultOrder": 47,
    "_isFastLaunch": false,
    "category": "Accelerated computing",
    "gpuNum": 1,
    "hideHardwareSpecs": false,
    "memoryGiB": 16,
    "name": "ml.g5.xlarge",
    "vcpuNum": 4
   },
   {
    "_defaultOrder": 48,
    "_isFastLaunch": false,
    "category": "Accelerated computing",
    "gpuNum": 1,
    "hideHardwareSpecs": false,
    "memoryGiB": 32,
    "name": "ml.g5.2xlarge",
    "vcpuNum": 8
   },
   {
    "_defaultOrder": 49,
    "_isFastLaunch": false,
    "category": "Accelerated computing",
    "gpuNum": 1,
    "hideHardwareSpecs": false,
    "memoryGiB": 64,
    "name": "ml.g5.4xlarge",
    "vcpuNum": 16
   },
   {
    "_defaultOrder": 50,
    "_isFastLaunch": false,
    "category": "Accelerated computing",
    "gpuNum": 1,
    "hideHardwareSpecs": false,
    "memoryGiB": 128,
    "name": "ml.g5.8xlarge",
    "vcpuNum": 32
   },
   {
    "_defaultOrder": 51,
    "_isFastLaunch": false,
    "category": "Accelerated computing",
    "gpuNum": 1,
    "hideHardwareSpecs": false,
    "memoryGiB": 256,
    "name": "ml.g5.16xlarge",
    "vcpuNum": 64
   },
   {
    "_defaultOrder": 52,
    "_isFastLaunch": false,
    "category": "Accelerated computing",
    "gpuNum": 4,
    "hideHardwareSpecs": false,
    "memoryGiB": 192,
    "name": "ml.g5.12xlarge",
    "vcpuNum": 48
   },
   {
    "_defaultOrder": 53,
    "_isFastLaunch": false,
    "category": "Accelerated computing",
    "gpuNum": 4,
    "hideHardwareSpecs": false,
    "memoryGiB": 384,
    "name": "ml.g5.24xlarge",
    "vcpuNum": 96
   },
   {
    "_defaultOrder": 54,
    "_isFastLaunch": false,
    "category": "Accelerated computing",
    "gpuNum": 8,
    "hideHardwareSpecs": false,
    "memoryGiB": 768,
    "name": "ml.g5.48xlarge",
    "vcpuNum": 192
   },
   {
    "_defaultOrder": 55,
    "_isFastLaunch": false,
    "category": "Accelerated computing",
    "gpuNum": 8,
    "hideHardwareSpecs": false,
    "memoryGiB": 1152,
    "name": "ml.p4d.24xlarge",
    "vcpuNum": 96
   },
   {
    "_defaultOrder": 56,
    "_isFastLaunch": false,
    "category": "Accelerated computing",
    "gpuNum": 8,
    "hideHardwareSpecs": false,
    "memoryGiB": 1152,
    "name": "ml.p4de.24xlarge",
    "vcpuNum": 96
   }
  ],
  "instance_type": "ml.t3.medium",
  "kernelspec": {
   "display_name": "Python 3 (Data Science)",
   "language": "python",
   "name": "python3__SAGEMAKER_INTERNAL__arn:aws:sagemaker:ap-southeast-2:452832661640:image/datascience-1.0"
  },
  "language_info": {
   "codemirror_mode": {
    "name": "ipython",
    "version": 3
   },
   "file_extension": ".py",
   "mimetype": "text/x-python",
   "name": "python",
   "nbconvert_exporter": "python",
   "pygments_lexer": "ipython3",
   "version": "3.7.10"
  }
 },
 "nbformat": 4,
 "nbformat_minor": 5
}
